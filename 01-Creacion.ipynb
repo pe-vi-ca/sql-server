{
    "metadata": {
        "kernelspec": {
            "name": "SQL",
            "display_name": "SQL",
            "language": "sql"
        },
        "language_info": {
            "name": "sql",
            "version": ""
        }
    },
    "nbformat_minor": 2,
    "nbformat": 4,
    "cells": [
        {
            "cell_type": "markdown",
            "source": [
                "Creamos la Base de Datos"
            ],
            "metadata": {
                "azdata_cell_guid": "fbc40a67-e421-4102-ae03-0b83e0383ef5"
            },
            "attachments": {}
        },
        {
            "cell_type": "code",
            "source": [
                "IF NOT EXISTS (SELECT * FROM sys.databases WHERE name = 'miempresita')\r\n",
                "BEGIN\r\n",
                "  CREATE DATABASE miempresita;\r\n",
                "END;\r\n",
                "GO"
            ],
            "metadata": {
                "azdata_cell_guid": "d48573ca-a487-4e51-9b83-f649552d0ca8",
                "language": "sql"
            },
            "outputs": [
                {
                    "output_type": "display_data",
                    "data": {
                        "text/html": "Commands completed successfully."
                    },
                    "metadata": {}
                },
                {
                    "output_type": "display_data",
                    "data": {
                        "text/html": "Total execution time: 00:00:00.266"
                    },
                    "metadata": {}
                }
            ],
            "execution_count": 1
        },
        {
            "cell_type": "markdown",
            "source": [
                "Un cliente quiere hacer una compra de varios productos"
            ],
            "metadata": {
                "azdata_cell_guid": "380a1edb-a174-4ffc-9fd4-1bfa362c6b72"
            },
            "attachments": {}
        },
        {
            "cell_type": "code",
            "source": [
                "create table products (\r\n",
                "    id int not null primary key,\r\n",
                "    name nvarchar(200) not null,\r\n",
                "    price money not null default 0.0\r\n",
                ")"
            ],
            "metadata": {
                "azdata_cell_guid": "8c2f6e13-56d4-44c6-8e4f-77f04a6a78dd",
                "language": "sql"
            },
            "outputs": [
                {
                    "output_type": "display_data",
                    "data": {
                        "text/html": "Commands completed successfully."
                    },
                    "metadata": {}
                },
                {
                    "output_type": "display_data",
                    "data": {
                        "text/html": "Total execution time: 00:00:00.006"
                    },
                    "metadata": {}
                }
            ],
            "execution_count": 2
        }
    ]
}